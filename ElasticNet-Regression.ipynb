{
  "nbformat": 4,
  "nbformat_minor": 0,
  "metadata": {
    "colab": {
      "name": "ElasticNet Regression.ipynb",
      "provenance": [],
      "collapsed_sections": [],
      "authorship_tag": "ABX9TyPZCsnZnW/0+PR69avgyQKy",
      "include_colab_link": true
    },
    "kernelspec": {
      "name": "python3",
      "display_name": "Python 3"
    }
  },
  "cells": [
    {
      "cell_type": "markdown",
      "metadata": {
        "id": "view-in-github",
        "colab_type": "text"
      },
      "source": [
        "<a href=\"https://colab.research.google.com/github/KodumuruRaja/Regularization-Algorithms/blob/main/ElasticNet-Regression.ipynb\" target=\"_parent\"><img src=\"https://colab.research.google.com/assets/colab-badge.svg\" alt=\"Open In Colab\"/></a>"
      ]
    },
    {
      "cell_type": "code",
      "metadata": {
        "colab": {
          "base_uri": "https://localhost:8080/"
        },
        "id": "g930z90YrJN7",
        "outputId": "ee78521c-abff-4991-ea92-0dfa4875273e"
      },
      "source": [
        "def Elastic():\r\n",
        "  print()\r\n",
        "  print(format(\"How to create an optimize a baseline ElasticNet Regression model\"))\r\n",
        "  import warnings\r\n",
        "  warnings.filterwarnings(\"ignore\")\r\n",
        "  import numpy as np\r\n",
        "  import pandas as pd\r\n",
        "  from sklearn import decomposition,datasets\r\n",
        "  from sklearn import linear_model\r\n",
        "  from sklearn.pipeline import Pipeline\r\n",
        "  from sklearn.model_selection import GridSearchCV,cross_val_score\r\n",
        "  from sklearn.model_selection import train_test_split\r\n",
        "  from sklearn.preprocessing import StandardScaler\r\n",
        "  data=datasets.load_boston()\r\n",
        "  x=data.data\r\n",
        "  y=data.target\r\n",
        "  # sc is StandardScaler object\r\n",
        "  sc=StandardScaler()\r\n",
        "  # pca object\r\n",
        "  pca=decomposition.PCA()\r\n",
        "  # Logistic Regression object with an L2 penalty\r\n",
        "  elasticnet=linear_model.ElasticNet()\r\n",
        "  # create a pipeline consists of first step- standardize the data,second step-transform the data with pca,third step-train a decision tree classifier on the data\r\n",
        "  pipe=Pipeline(steps=[('sc',sc),\r\n",
        "                       ('pca',pca),\r\n",
        "                       ('elasticnet',elasticnet)])\r\n",
        "  # create a parameter space, creating a list of sequence of integers from 1 to 30\r\n",
        "  n_components=list(range(1,x.shape[1]+1,1))\r\n",
        "  # lists of parameter for ElasticNet Regression\r\n",
        "  normalize=[True,False]\r\n",
        "  selection=['cyclic','random']\r\n",
        "  # creating a dictionary of all parameter options, you can access the parameters of steps of a pipeline by using '__'\r\n",
        "  parameters=dict(pca__n_components=n_components,\r\n",
        "                  elasticnet__normalize=normalize,\r\n",
        "                  elasticnet__selection=selection)\r\n",
        "  # conduct parameter optimization with pipeline, create a grid search object\r\n",
        "  model=GridSearchCV(pipe,parameters)\r\n",
        "  model.fit(x,y)\r\n",
        "  # viewing best parameters\r\n",
        "  print('Best Number of Components:',model.best_estimator_.get_params()['pca__n_components'])\r\n",
        "  print(model.best_estimator_.get_params()['elasticnet'])\r\n",
        "  # Use Crosss Validation to Evaluate\r\n",
        "  CVResult=cross_val_score(model,x,y,cv=10,n_jobs=-1,scoring='r2')\r\n",
        "  print(CVResult)\r\n",
        "  print(CVResult.mean())\r\n",
        "  print(CVResult.std())\r\n",
        "Elastic()"
      ],
      "execution_count": null,
      "outputs": [
        {
          "output_type": "stream",
          "text": [
            "\n",
            "How to create an optimize a baseline ElasticNet Regression model\n",
            "Best Number of Components: 5\n",
            "ElasticNet(alpha=1.0, copy_X=True, fit_intercept=True, l1_ratio=0.5,\n",
            "           max_iter=1000, normalize=False, positive=False, precompute=False,\n",
            "           random_state=None, selection='cyclic', tol=0.0001, warm_start=False)\n",
            "[ 0.54482689  0.58528583 -0.21733096  0.31550777  0.47012141  0.38601621\n",
            "  0.00976849  0.20263272 -0.51875547  0.50150125]\n",
            "0.22795741290036364\n",
            "0.3461671216567074\n"
          ],
          "name": "stdout"
        }
      ]
    },
    {
      "cell_type": "code",
      "metadata": {
        "id": "Zr0MjJPoyLwD"
      },
      "source": [
        ""
      ],
      "execution_count": null,
      "outputs": []
    }
  ]
}