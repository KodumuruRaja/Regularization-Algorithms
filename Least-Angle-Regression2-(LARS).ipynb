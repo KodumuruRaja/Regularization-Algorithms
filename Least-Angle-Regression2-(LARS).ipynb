{
  "nbformat": 4,
  "nbformat_minor": 0,
  "metadata": {
    "colab": {
      "name": "LARS1.ipynb",
      "provenance": [],
      "collapsed_sections": [],
      "authorship_tag": "ABX9TyNnwOHk7pz/TMka5xH5xiAy",
      "include_colab_link": true
    },
    "kernelspec": {
      "name": "python3",
      "display_name": "Python 3"
    }
  },
  "cells": [
    {
      "cell_type": "markdown",
      "metadata": {
        "id": "view-in-github",
        "colab_type": "text"
      },
      "source": [
        "<a href=\"https://colab.research.google.com/github/KodumuruRaja/Regularization-Algorithms/blob/main/Least-Angle-Regression2-(LARS).ipynb\" target=\"_parent\"><img src=\"https://colab.research.google.com/assets/colab-badge.svg\" alt=\"Open In Colab\"/></a>"
      ]
    },
    {
      "cell_type": "code",
      "metadata": {
        "colab": {
          "base_uri": "https://localhost:8080/"
        },
        "id": "GAYVMPd_HOvb",
        "outputId": "0010777f-1eed-4801-be2a-724bfd6d9671"
      },
      "source": [
        "# Importing modules that are required \r\n",
        "from sklearn.datasets import load_boston \r\n",
        "from sklearn.linear_model import LassoLars \r\n",
        "from sklearn.metrics import r2_score \r\n",
        "from sklearn.model_selection import train_test_split \r\n",
        "  \r\n",
        "# Loading dataset \r\n",
        "dataset = load_boston() \r\n",
        "X = dataset.data \r\n",
        "y = dataset.target \r\n",
        "  \r\n",
        "# Splitting training and testing data \r\n",
        "X_train, X_test, y_train, y_test = train_test_split(X, y, test_size = 0.15, random_state = 42) \r\n",
        "  \r\n",
        "# Creating and fitting the regressor \r\n",
        "regressor = LassoLars(alpha = 0.1) \r\n",
        "regressor.fit(X_train, y_train) \r\n",
        "  \r\n",
        "# Evaluating model \r\n",
        "prediction = regressor.predict(X_test) \r\n",
        "  \r\n",
        "print(f\"r2 Score of test set : {r2_score(y_test, prediction)}\")"
      ],
      "execution_count": null,
      "outputs": [
        {
          "output_type": "stream",
          "text": [
            "r2 Score of test set : 0.6815908068381826\n"
          ],
          "name": "stdout"
        }
      ]
    },
    {
      "cell_type": "code",
      "metadata": {
        "id": "JtYIV5GmHT8m"
      },
      "source": [
        ""
      ],
      "execution_count": null,
      "outputs": []
    }
  ]
}